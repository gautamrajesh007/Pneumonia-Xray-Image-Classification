{
 "cells": [
  {
   "cell_type": "code",
   "execution_count": null,
   "metadata": {
    "ExecuteTime": {
     "end_time": "2023-04-25T21:43:50.694200Z",
     "start_time": "2023-04-25T21:43:50.693793Z"
    },
    "collapsed": true
   },
   "outputs": [],
   "source": [
    "import tensorflow as tf\n",
    "import matplotlib.pyplot as plt\n",
    "import numpy as np\n",
    "import pandas as pd\n",
    "from tensorflow.keras.preprocessing.image import ImageDataGenerator\n",
    "from tensorflow.keras.models import Sequential\n",
    "from tensorflow.keras.layers import Dense, Conv2D, MaxPooling2D, Flatten\n",
    "from tensorflow.keras.callbacks import EarlyStopping"
   ]
  },
  {
   "attachments": {},
   "cell_type": "markdown",
   "metadata": {},
   "source": [
    "*Giving file paths for datasets*"
   ]
  },
  {
   "cell_type": "code",
   "execution_count": null,
   "metadata": {
    "ExecuteTime": {
     "end_time": "2023-04-25T21:43:50.694641Z",
     "start_time": "2023-04-25T21:43:50.694116Z"
    },
    "collapsed": false
   },
   "outputs": [],
   "source": [
    "train_data = '/home/gautam/Desktop/Pneumonia_Identification/dataset/train'\n",
    "test_data = '/home/gautam/Desktop/Pneumonia_Identification/dataset/test'\n",
    "val_data = '/home/gautam/Desktop/Pneumonia_Identification/dataset/val'\n",
    "\n",
    "batch_size = 16\n",
    "\n",
    "img_height = 500\n",
    "img_width = 500"
   ]
  },
  {
   "attachments": {},
   "cell_type": "markdown",
   "metadata": {},
   "source": [
    "*Data Augmentation*"
   ]
  },
  {
   "cell_type": "code",
   "execution_count": null,
   "metadata": {
    "ExecuteTime": {
     "end_time": "2023-04-25T21:43:50.694866Z",
     "start_time": "2023-04-25T21:43:50.694396Z"
    },
    "collapsed": false
   },
   "outputs": [],
   "source": [
    "image_gen = ImageDataGenerator(rotation_range=90, width_shift_range=0.1, height_shift_range=0.1, rescale=1/255, shear_range=0.2, zoom_range=0.2, horizontal_flip=True, fill_mode='nearest')\n",
    "test_data_gen = ImageDataGenerator(rescale=1/255)"
   ]
  },
  {
   "attachments": {},
   "cell_type": "markdown",
   "metadata": {},
   "source": [
    "*Loading the Images*"
   ]
  },
  {
   "cell_type": "code",
   "execution_count": null,
   "metadata": {
    "ExecuteTime": {
     "end_time": "2023-04-25T21:43:50.738194Z",
     "start_time": "2023-04-25T21:43:50.694729Z"
    }
   },
   "outputs": [],
   "source": [
    "train = image_gen.flow_from_directory(train_data, target_size=(img_height, img_width), color_mode=\"grayscale\", class_mode='binary', batch_size=batch_size)\n",
    "test = test_data_gen.flow_from_directory(test_data, shuffle=False, target_size=(img_height, img_width), color_mode=\"grayscale\", class_mode='binary', batch_size=batch_size)\n",
    "valid = image_gen.flow_from_directory(val_data, target_size=(img_height, img_width), color_mode=\"grayscale\", class_mode='binary', batch_size=batch_size)"
   ]
  },
  {
   "attachments": {},
   "cell_type": "markdown",
   "metadata": {},
   "source": [
    "*Visualising the Data*"
   ]
  },
  {
   "cell_type": "code",
   "execution_count": null,
   "metadata": {
    "ExecuteTime": {
     "end_time": "2023-04-25T21:43:52.389792Z",
     "start_time": "2023-04-25T21:43:50.736597Z"
    }
   },
   "outputs": [],
   "source": [
    "plt.figure(figsize=(12, 12))\n",
    "for i in range(0, 10):\n",
    "    plt.subplot(2, 5, i+1)\n",
    "    for X_batch, Y_batch in train:\n",
    "        image = X_batch[0]\n",
    "        dic = {0:'NORMAL', 1:'PNEUMONIA'}\n",
    "        plt.title(dic.get(Y_batch[0]))\n",
    "        plt.axis('off')\n",
    "        plt.imshow(np.squeeze(image), cmap='gray', interpolation='nearest')\n",
    "        break\n",
    "    plt.tight_layout()\n",
    "    plt.show()"
   ]
  },
  {
   "cell_type": "code",
   "execution_count": null,
   "metadata": {
    "ExecuteTime": {
     "end_time": "2023-04-25T21:43:52.482100Z",
     "start_time": "2023-04-25T21:43:52.393455Z"
    },
    "collapsed": false
   },
   "outputs": [],
   "source": [
    "cnn = Sequential()\n",
    "\n",
    "\n",
    "cnn.add(Conv2D(32, (3, 3), activation='relu', input_shape=(img_width, img_height, 1)))\n",
    "cnn.add(MaxPooling2D(pool_size = (2, 2)))\n",
    "\n",
    "cnn.add(Conv2D(32, (3, 3), activation='relu', input_shape=(img_width, img_height, 1)))\n",
    "cnn.add(MaxPooling2D(pool_size = (2, 2)))\n",
    "\n",
    "cnn.add(Conv2D(32, (3, 3), activation='relu', input_shape=(img_width, img_height, 1)))\n",
    "cnn.add(MaxPooling2D(pool_size = (2, 2)))\n",
    "\n",
    "cnn.add(Conv2D(64, (3, 3), activation='relu', input_shape=(img_width, img_height, 1)))\n",
    "cnn.add(MaxPooling2D(pool_size = (2, 2)))\n",
    "\n",
    "cnn.add(Conv2D(64, (3, 3), activation='relu', input_shape=(img_width, img_height, 1)))\n",
    "cnn.add(MaxPooling2D(pool_size = (2, 2)))\n",
    "\n",
    "cnn.add(Flatten())\n",
    "\n",
    "cnn.add(Dense(activation = 'relu', units = 128))\n",
    "cnn.add(Dense(activation = 'relu', units = 64))\n",
    "cnn.add(Dense(activation = 'sigmoid', units = 1))\n",
    "\n",
    "cnn.compile(optimizer = 'adam', loss = 'binary_crossentropy', metrics = ['accuracy'])\n"
   ]
  },
  {
   "cell_type": "code",
   "execution_count": null,
   "metadata": {
    "ExecuteTime": {
     "end_time": "2023-04-25T21:43:52.482696Z",
     "start_time": "2023-04-25T21:43:52.481937Z"
    },
    "collapsed": false
   },
   "outputs": [],
   "source": [
    "cnn.summary()"
   ]
  },
  {
   "cell_type": "code",
   "execution_count": null,
   "metadata": {},
   "outputs": [],
   "source": []
  }
 ],
 "metadata": {
  "kernelspec": {
   "display_name": "Python 3",
   "language": "python",
   "name": "python3"
  },
  "language_info": {
   "codemirror_mode": {
    "name": "ipython",
    "version": 3
   },
   "file_extension": ".py",
   "mimetype": "text/x-python",
   "name": "python",
   "nbconvert_exporter": "python",
   "pygments_lexer": "ipython3",
   "version": "3.10.11"
  }
 },
 "nbformat": 4,
 "nbformat_minor": 0
}
