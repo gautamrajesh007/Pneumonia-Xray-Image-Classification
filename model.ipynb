{
 "cells": [
  {
   "attachments": {},
   "cell_type": "markdown",
   "metadata": {},
   "source": [
    "**Importing Libraries**"
   ]
  },
  {
   "cell_type": "code",
   "execution_count": null,
   "metadata": {
    "ExecuteTime": {
     "end_time": "2023-05-06T16:04:02.907951764Z",
     "start_time": "2023-05-06T16:04:01.894938459Z"
    },
    "collapsed": true
   },
   "outputs": [],
   "source": [
    "import tensorflow as tf\n",
    "import matplotlib.pyplot as plt\n",
    "import numpy as np\n",
    "import pandas as pd\n",
    "from tensorflow.keras.preprocessing.image import ImageDataGenerator\n",
    "from tensorflow.keras.models import Sequential\n",
    "from tensorflow.keras.layers import Dense, Conv2D, MaxPooling2D, Flatten\n",
    "from tensorflow.keras.callbacks import EarlyStopping, ReduceLROnPlateau, ModelCheckpoint\n",
    "from tensorflow.keras.utils import plot_model\n",
    "from tensorflow.keras.losses import BinaryCrossentropy\n",
    "from sklearn.utils.class_weight import compute_class_weight\n",
    "from sklearn.metrics import confusion_matrix, classification_report\n",
    "import seaborn as sns"
   ]
  },
  {
   "attachments": {},
   "cell_type": "markdown",
   "metadata": {},
   "source": [
    "*Giving file paths for datasets*"
   ]
  },
  {
   "cell_type": "code",
   "execution_count": null,
   "metadata": {
    "ExecuteTime": {
     "end_time": "2023-05-06T16:05:16.019460754Z",
     "start_time": "2023-05-06T16:05:15.974423396Z"
    },
    "collapsed": false
   },
   "outputs": [],
   "source": [
    "train_data = '/home/gautam/Desktop/Pneumonia_chest_xray_classification/datasets/train'\n",
    "test_data = '/home/gautam/Desktop/Pneumonia_chest_xray_classification/datasets/test'\n",
    "val_data = '/home/gautam/Desktop/Pneumonia_chest_xray_classification/datasets/val'\n",
    "\n",
    "batch_size = 16\n",
    "\n",
    "img_height = 500\n",
    "img_width = 500"
   ]
  },
  {
   "attachments": {},
   "cell_type": "markdown",
   "metadata": {},
   "source": [
    "*Data Augmentation*"
   ]
  },
  {
   "cell_type": "code",
   "execution_count": null,
   "metadata": {
    "ExecuteTime": {
     "end_time": "2023-05-06T16:05:23.471642188Z",
     "start_time": "2023-05-06T16:05:23.468679264Z"
    },
    "collapsed": false
   },
   "outputs": [],
   "source": [
    "image_gen = ImageDataGenerator(rotation_range=90, width_shift_range=0.1, height_shift_range=0.1, rescale=1/255, shear_range=0.2, zoom_range=0.2, horizontal_flip=True, fill_mode='nearest')\n",
    "test_data_gen = ImageDataGenerator(rescale=1/255)"
   ]
  },
  {
   "attachments": {},
   "cell_type": "markdown",
   "metadata": {},
   "source": [
    "*Loading the Images*"
   ]
  },
  {
   "cell_type": "code",
   "execution_count": null,
   "metadata": {
    "ExecuteTime": {
     "end_time": "2023-05-06T16:05:24.909600714Z",
     "start_time": "2023-05-06T16:05:24.844847721Z"
    }
   },
   "outputs": [],
   "source": [
    "train = image_gen.flow_from_directory(train_data, target_size=(img_height, img_width), color_mode=\"grayscale\", class_mode='binary', batch_size=batch_size)\n",
    "test = test_data_gen.flow_from_directory(test_data, shuffle=False, target_size=(img_height, img_width), color_mode=\"grayscale\", class_mode='binary', batch_size=batch_size)\n",
    "valid = image_gen.flow_from_directory(val_data, target_size=(img_height, img_width), color_mode=\"grayscale\", class_mode='binary', batch_size=batch_size)"
   ]
  },
  {
   "attachments": {},
   "cell_type": "markdown",
   "metadata": {},
   "source": [
    "*Visualising the Data*"
   ]
  },
  {
   "cell_type": "code",
   "execution_count": null,
   "metadata": {
    "ExecuteTime": {
     "end_time": "2023-05-06T16:05:28.345079454Z",
     "start_time": "2023-05-06T16:05:26.541725315Z"
    }
   },
   "outputs": [],
   "source": [
    "plt.figure(figsize=(12, 12))\n",
    "for i in range(0, 10):\n",
    "    plt.subplot(2, 5, i+1)\n",
    "    for X_batch, Y_batch in train:\n",
    "        image = X_batch[0]\n",
    "        dic = {0:'NORMAL', 1:'PNEUMONIA'}\n",
    "        plt.title(dic.get(Y_batch[0]))\n",
    "        plt.axis('off')\n",
    "        plt.imshow(np.squeeze(image), cmap='gray', interpolation='nearest')\n",
    "        break\n",
    "    plt.tight_layout()\n",
    "    plt.show()"
   ]
  },
  {
   "attachments": {},
   "cell_type": "markdown",
   "metadata": {},
   "source": [
    "*CNN Architecture*"
   ]
  },
  {
   "cell_type": "code",
   "execution_count": null,
   "metadata": {
    "ExecuteTime": {
     "end_time": "2023-05-06T16:05:34.000696549Z",
     "start_time": "2023-05-06T16:05:33.824270826Z"
    },
    "collapsed": false
   },
   "outputs": [],
   "source": [
    "cnn = Sequential()\n",
    "\n",
    "\n",
    "cnn.add(Conv2D(32, (3, 3), activation='relu', input_shape=(img_width, img_height, 1)))\n",
    "cnn.add(MaxPooling2D(pool_size = (2, 2)))\n",
    "\n",
    "cnn.add(Conv2D(32, (3, 3), activation='relu', input_shape=(img_width, img_height, 1)))\n",
    "cnn.add(MaxPooling2D(pool_size = (2, 2)))\n",
    "\n",
    "cnn.add(Conv2D(32, (3, 3), activation='relu', input_shape=(img_width, img_height, 1)))\n",
    "cnn.add(MaxPooling2D(pool_size = (2, 2)))\n",
    "\n",
    "cnn.add(Conv2D(64, (3, 3), activation='relu', input_shape=(img_width, img_height, 1)))\n",
    "cnn.add(MaxPooling2D(pool_size = (2, 2)))\n",
    "\n",
    "cnn.add(Conv2D(64, (3, 3), activation='relu', input_shape=(img_width, img_height, 1)))\n",
    "cnn.add(MaxPooling2D(pool_size = (2, 2)))\n",
    "\n",
    "cnn.add(Flatten())\n",
    "\n",
    "cnn.add(Dense(activation = 'relu', units = 128))\n",
    "cnn.add(Dense(activation = 'relu', units = 64))\n",
    "cnn.add(Dense(activation = 'sigmoid', units = 1))\n",
    "\n",
    "cnn.compile(optimizer = 'adam', loss = BinaryCrossentropy(), metrics = ['accuracy'])\n",
    "\n",
    "cnn.summary()"
   ]
  },
  {
   "attachments": {},
   "cell_type": "markdown",
   "metadata": {},
   "source": [
    "*Interpreting Model Summary*"
   ]
  },
  {
   "cell_type": "code",
   "execution_count": null,
   "metadata": {
    "ExecuteTime": {
     "end_time": "2023-05-06T16:05:39.470784366Z",
     "start_time": "2023-05-06T16:05:39.462034802Z"
    }
   },
   "outputs": [],
   "source": [
    "Conv2D(filters=128, kernel_size=(3, 3),activation='relu', input_shape=(500, 500, 1))\n",
    "\n",
    "MaxPooling2D(pool_size=(2, 2), strides=None, padding='valid', data_format=None)"
   ]
  },
  {
   "attachments": {},
   "cell_type": "markdown",
   "metadata": {},
   "source": [
    "*Visualize CNN model*"
   ]
  },
  {
   "cell_type": "code",
   "execution_count": null,
   "metadata": {
    "ExecuteTime": {
     "end_time": "2023-05-06T16:05:42.415407721Z",
     "start_time": "2023-05-06T16:05:42.412695510Z"
    }
   },
   "outputs": [],
   "source": [
    "plot_model(cnn, show_shapes=True, show_layer_names=True, rankdir='TB', expand_nested=True)"
   ]
  },
  {
   "attachments": {},
   "cell_type": "markdown",
   "metadata": {},
   "source": [
    "*Fitting the model*"
   ]
  },
  {
   "cell_type": "code",
   "execution_count": null,
   "metadata": {
    "ExecuteTime": {
     "end_time": "2023-05-06T16:05:46.007660455Z",
     "start_time": "2023-05-06T16:05:46.005307673Z"
    }
   },
   "outputs": [],
   "source": [
    "early = EarlyStopping(monitor='val_loss', mode='auto', patience=5)\n",
    "\n",
    "learning_rate_reduction = ReduceLROnPlateau(monitor='val_accuracy', patience=2, verbose=1, factor=0.003, min_lr=0.000001)\n",
    "\n",
    "checkpoint_filepath = '/home/gautam/Desktop/Pneumonia_chest_xray_classification/checkpoint/checkpoint.h5'\n",
    "checkpoint = ModelCheckpoint(filepath=checkpoint_filepath, save_weights_only=True, monitor='val_accuracy', mode='max', save_best_only=True)\n",
    "\n",
    "callbacks_list = [early, learning_rate_reduction, checkpoint]"
   ]
  },
  {
   "attachments": {},
   "cell_type": "markdown",
   "metadata": {},
   "source": [
    "*Assigning Class Weights*"
   ]
  },
  {
   "cell_type": "code",
   "execution_count": null,
   "metadata": {
    "ExecuteTime": {
     "end_time": "2023-05-06T16:05:48.027869769Z",
     "start_time": "2023-05-06T16:05:48.022583931Z"
    }
   },
   "outputs": [],
   "source": [
    "weights = compute_class_weight(class_weight='balanced', classes=np.unique(train.classes), y=train.classes)\n",
    "cw = dict(zip(np.unique(train.classes), weights))\n",
    "print(cw)"
   ]
  },
  {
   "attachments": {},
   "cell_type": "markdown",
   "metadata": {},
   "source": [
    "*Fitting the model*"
   ]
  },
  {
   "cell_type": "code",
   "execution_count": null,
   "metadata": {
    "ExecuteTime": {
     "end_time": "2023-05-06T16:09:44.849242685Z",
     "start_time": "2023-05-06T16:05:49.996413318Z"
    }
   },
   "outputs": [],
   "source": [
    "cnn.fit(train, epochs=500, validation_data=valid, class_weight=cw, callbacks=callbacks_list)"
   ]
  },
  {
   "attachments": {},
   "cell_type": "markdown",
   "metadata": {},
   "source": [
    "*Evaluating the model*"
   ]
  },
  {
   "cell_type": "code",
   "execution_count": null,
   "metadata": {},
   "outputs": [],
   "source": [
    "pd.DataFrame(cnn.history.history).plot()"
   ]
  },
  {
   "attachments": {},
   "cell_type": "markdown",
   "metadata": {},
   "source": [
    "*Loading Weights*"
   ]
  },
  {
   "cell_type": "code",
   "execution_count": null,
   "metadata": {},
   "outputs": [],
   "source": [
    "cnn.load_weights(checkpoint_filepath)"
   ]
  },
  {
   "attachments": {},
   "cell_type": "markdown",
   "metadata": {},
   "source": [
    "*Testing Accuracy*"
   ]
  },
  {
   "cell_type": "code",
   "execution_count": null,
   "metadata": {},
   "outputs": [],
   "source": [
    "test_loss, test_acc = cnn.evaluate(test)\n",
    "print('Test Accuracy: ', test_acc*100, '%')"
   ]
  },
  {
   "attachments": {},
   "cell_type": "markdown",
   "metadata": {},
   "source": [
    "*Prediction*"
   ]
  },
  {
   "cell_type": "code",
   "execution_count": null,
   "metadata": {},
   "outputs": [],
   "source": [
    "preds= cnn.predict(test, verbose=1)\n",
    "\n",
    "predictions = preds.copy()\n",
    "predictions[predictions > 0.5] = 1\n",
    "predictions[predictions <= 0.5] = 0"
   ]
  },
  {
   "attachments": {},
   "cell_type": "markdown",
   "metadata": {},
   "source": [
    "*Creating a confusion matrix*"
   ]
  },
  {
   "cell_type": "code",
   "execution_count": null,
   "metadata": {},
   "outputs": [],
   "source": [
    "cm = pd.DataFrame(data=confusion_matrix(test.classes, predictions, labels=[0, 1]), index=['Actual Normal', 'Actual Pneumonia'], columns=['Predicted Normal', 'Predicted Pneumonia'])\n",
    "\n",
    "sns.heatmap(cm, annot=True, fmt='d')"
   ]
  },
  {
   "attachments": {},
   "cell_type": "markdown",
   "metadata": {},
   "source": [
    "*Printing the report*"
   ]
  },
  {
   "cell_type": "code",
   "execution_count": null,
   "metadata": {},
   "outputs": [],
   "source": [
    "print(classification_report(y_true=test.classes, y_pred=predictions, target_names=['Normal', 'Pneumonia']))"
   ]
  },
  {
   "attachments": {},
   "cell_type": "markdown",
   "metadata": {},
   "source": [
    "*Concatenating the 'test' sequence and get the shape of 'x' and 'y'*"
   ]
  },
  {
   "cell_type": "code",
   "execution_count": null,
   "metadata": {},
   "outputs": [],
   "source": [
    "test.reset()\n",
    "x=np.concatenate([test.next()[0] for i in range(test.__len__())])\n",
    "y=np.concatenate([test.next()[1] for i in range(test.__len__())])\n",
    "print(x.shape)\n",
    "print(y.shape)"
   ]
  },
  {
   "attachments": {},
   "cell_type": "markdown",
   "metadata": {},
   "source": [
    "*Saving the model*"
   ]
  },
  {
   "cell_type": "code",
   "execution_count": null,
   "metadata": {},
   "outputs": [],
   "source": [
    "tf.keras.models.save_model(cnn, 'pneumonia.h5',save_format='h5')"
   ]
  }
 ],
 "metadata": {
  "kernelspec": {
   "display_name": "Python 3",
   "language": "python",
   "name": "python3"
  },
  "language_info": {
   "codemirror_mode": {
    "name": "ipython",
    "version": 3
   },
   "file_extension": ".py",
   "mimetype": "text/x-python",
   "name": "python",
   "nbconvert_exporter": "python",
   "pygments_lexer": "ipython3",
   "version": "3.10.11"
  }
 },
 "nbformat": 4,
 "nbformat_minor": 0
}
